{
 "cells": [
  {
   "attachments": {},
   "cell_type": "markdown",
   "metadata": {},
   "source": [
    "# 05 - JSON mode\n",
    "\n",
    "JSON mode in OpenAI's chat completion allows developers to receive structured data responses in JSON format. \n",
    "This feature is particularly useful for applications that require precise data parsing and integration with other systems. By specifying a JSON schema, developers can guide the model to generate responses that adhere to a predefined structure, ensuring consistency and ease of use when handling complex data interactions. This approach enhances the model's utility in scenarios like API development, data processing, and automated workflows, providing a more reliable and structured output."
   ]
  },
  {
   "attachments": {},
   "cell_type": "markdown",
   "metadata": {},
   "source": [
    "First, we use the `import` statement to let our application know that we're going to be using the OpenAI library in our code."
   ]
  },
  {
   "cell_type": "code",
   "execution_count": null,
   "metadata": {},
   "outputs": [],
   "source": [
    "%pip install openai"
   ]
  },
  {
   "cell_type": "markdown",
   "metadata": {},
   "source": [
    "We'll create a new `AzureOpenAI` object and pass in the API key and version and the endpoint URL to be used."
   ]
  },
  {
   "cell_type": "code",
   "execution_count": null,
   "metadata": {},
   "outputs": [],
   "source": [
    "import os\n",
    "from dotenv import load_dotenv\n",
    "from openai import AzureOpenAI\n",
    "\n",
    "if load_dotenv():\n",
    "    print(\"Found Azure OpenAI API Base Endpoint: \" + os.getenv(\"AZURE_OPENAI_ENDPOINT\"))\n",
    "else: \n",
    "    print(\"Azure OpenAI API Base Endpoint not found. Have you configured the .env file?\")\n",
    "client = AzureOpenAI(\n",
    "    azure_endpoint = os.getenv(\"AZURE_OPENAI_ENDPOINT\"),\n",
    "    api_key = os.getenv(\"AZURE_OPENAI_API_KEY\"),\n",
    "    api_version = os.getenv(\"OPENAI_API_VERSION\")\n",
    ")\n",
    "def print_response(system_prompt, user_prompt):\n",
    "    response = client.chat.completions.create(\n",
    "        model = os.getenv(\"AZURE_OPENAI_COMPLETION_MODEL\"),\n",
    "        messages = [{\"role\" : \"system\", \"content\" : system_prompt}, {\"role\" : \"user\", \"content\" : user_prompt}],\n",
    "    )\n",
    "    print(response.choices[0].message.content)"
   ]
  },
  {
   "attachments": {},
   "cell_type": "markdown",
   "metadata": {},
   "source": [
    "## Send a prompt to Azure OpenAI using the OpenAI library\n",
    "\n",
    "Now that we have defined an Azure OpenAI instance, let's try a Chat Completion. We'll call the `chat.completions.create()` method. Note that for the `model` value, we actually pass in the id of our Azure OpenAI `deployment`. We'll also pass the `prompt` we want to use as the `content` of the `messages` parameter."
   ]
  },
  {
   "cell_type": "markdown",
   "metadata": {},
   "source": [
    "* Exercise: Write a prompt that generates the expected completion\n",
    "* Input text:\n",
    "  ```\n",
    "  Hello, my name is Mateo Gomez. I lost my Credit card on August 17th, and I would like to request its cancellation. The last purchase I made was of a Chicken parmigiana dish at Contoso Restaurant, located near the Hollywood Museum, for $40. Below is my personal information for validation:\n",
    "  Profession: Accountant\n",
    "  Social Security number is 123-45-6789\n",
    "  Date of birth: 9-9-1989\n",
    "  Phone number: 949-555-0110\n",
    "  Personal address: 1234 Hollywood Boulevard Los Angeles CA\n",
    "  Linked email account: mateo@contosorestaurant.com\n",
    "  Swift code: CHASUS33XXX\n",
    "  ```\n",
    "* Expected completion:\n",
    "  ```\n",
    "  {\n",
    "      \"reason\": \"Lost card\",\n",
    "      \"classified_reason\": \"lost_card\",\n",
    "      \"name\": \"Mateo Gomez\",\n",
    "      \"ssn\": \"123-45-6789\",\n",
    "      \"dob\": \"09/09/1989\"\n",
    "  }\n",
    "  ```"
   ]
  },
  {
   "cell_type": "code",
   "execution_count": null,
   "metadata": {},
   "outputs": [],
   "source": [
    "system_prompt =\"\"\"\n",
    "Given an input text containing a customer's personal information and request details, extract and structure the relevant information into a JSON object. \n",
    "The object should include the reason for the request, a classified reason code, and key personal details of the customer. \n",
    "\"\"\"\n",
    "user_prompt =\"\"\" \n",
    "  Hello, my name is Mateo Gomez. I lost my Credit card on August 17th, and I would like to request its cancellation. The last purchase I made was of a Chicken parmigiana dish at Contoso Restaurant, located near the Hollywood Museum, for $40. Below is my personal information for validation:\n",
    "  Profession: Accountant\n",
    "  Social Security Number is 123-45-6789\n",
    "  Date of birth: 9-9-1989\n",
    "  Phone number: 949-555-0110\n",
    "  Personal address: 1234 Hollywood Boulevard Los Angeles CA\n",
    "  Linked email account: mateo@contosorestaurant.com\n",
    "  Swift code: CHASUS33XXX\n",
    "  \"\"\"\n",
    "print_response(system_prompt=system_prompt, user_prompt=user_prompt)"
   ]
  },
  {
   "cell_type": "markdown",
   "metadata": {},
   "source": [
    "# Can we do better?"
   ]
  },
  {
   "cell_type": "markdown",
   "metadata": {},
   "source": [
    "We can provide additional examples or expected completions to the model to improve accuracy. "
   ]
  },
  {
   "cell_type": "code",
   "execution_count": null,
   "metadata": {},
   "outputs": [],
   "source": [
    "system_prompt =\"\"\"\n",
    "Given an input text containing a customer's personal information and request details, extract and structure the relevant information into a JSON object. \n",
    "The object should include the reason for the request, a classified reason code, and key personal details of the customer. \n",
    "\n",
    "* Expected completion:\n",
    "\n",
    "  {\n",
    "      \"reason\": \"New account\",\n",
    "      \"classified_reason\": \"new_account\",\n",
    "      \"name\": \"Mateo Gomez\",\n",
    "      \"ssn\": \"123-45-6789\",\n",
    "      \"dob\": \"09/09/1989\"\n",
    "  }\n",
    "\n",
    "\"\"\"\n",
    "print_response(system_prompt=system_prompt, user_prompt=user_prompt)"
   ]
  },
  {
   "cell_type": "markdown",
   "metadata": {},
   "source": [
    "## Can we do better than better?"
   ]
  },
  {
   "cell_type": "markdown",
   "metadata": {},
   "source": [
    "Yes - with JSON mode.\n",
    "\n",
    "JSON Mode is a feature that ensures the model outputs **valid JSON** according to a specified schema. When enabled, the model strictly adheres to JSON formatting rules, making it ideal for structured data generation, API responses, or integrations where predictable output is critical.\n",
    "\n",
    "**Key Points:**\n",
    "\n",
    "*   Guarantees **well-formed JSON** (no extra text or invalid syntax).\n",
    "*   Works with **response\\_format={\"type\": \"json\\_object\"}** in the API.\n",
    "*   Useful for tasks like structured data extraction, configuration generation, or passing data between systems.\n",
    "*   Reduces post-processing and parsing errors compared to free-form text output.\n",
    "\n"
   ]
  },
  {
   "cell_type": "code",
   "execution_count": null,
   "metadata": {},
   "outputs": [],
   "source": [
    "def print_response(system_prompt, user_prompt):\n",
    "    response = client.chat.completions.create(\n",
    "        model = os.getenv(\"AZURE_OPENAI_COMPLETION_MODEL\"),\n",
    "        messages = [{\"role\" : \"system\", \"content\" : system_prompt}, {\"role\" : \"user\", \"content\" : user_prompt}],\n",
    "        response_format={\"type\": \"json_object\"}\n",
    "\n",
    "    )\n",
    "    print(response.choices[0].message.content)\n",
    "\n",
    "print_response(system_prompt=system_prompt, user_prompt=user_prompt)"
   ]
  },
  {
   "cell_type": "markdown",
   "metadata": {},
   "source": [
    "### Limitations of JSON Mode:"
   ]
  },
  {
   "cell_type": "code",
   "execution_count": null,
   "metadata": {},
   "outputs": [],
   "source": [
    "system_prompt =\"\"\"Extract data from the given text\"\"\"\n",
    "print_response(system_prompt=system_prompt, user_prompt=user_prompt)\n"
   ]
  },
  {
   "cell_type": "code",
   "execution_count": null,
   "metadata": {},
   "outputs": [],
   "source": [
    "\n",
    "system_prompt =\"\"\"Extract data from the given text in JSON\"\"\"\n",
    "print_response(system_prompt=system_prompt, user_prompt=user_prompt)"
   ]
  },
  {
   "cell_type": "markdown",
   "metadata": {},
   "source": [
    "# Can we do even better?"
   ]
  },
  {
   "cell_type": "markdown",
   "metadata": {},
   "source": [
    "Expected completion:\n",
    "  ```\n",
    "  {\n",
    "      \"reason\": \"Lost card\",\n",
    "      \"classified_reason\": \"lost_card\",\n",
    "      \"name\": \"Mateo Gomez\",\n",
    "      \"ssn\": \"123-45-6789\",\n",
    "      \"dob\": \"09/09/1989\"\n",
    "  }\n",
    "  ```\n",
    "\n"
   ]
  },
  {
   "cell_type": "markdown",
   "metadata": {},
   "source": [
    "  ## Structured Outputs\n",
    "  \n",
    "  Structured Outputs is the evolution of JSON mode. While both ensure valid JSON is produced, only Structured Outputs ensure schema adherance. Both Structured Outputs and JSON mode are supported in the Responses API,Chat Completions API, Assistants API, Fine-tuning API and Batch API.\n",
    "\n",
    "We recommend always using Structured Outputs instead of JSON mode when possible. This will help future-proof your integration and make it easier to work with the API.\n",
    "\n",
    "| Feature              | Structured Outputs                                      | JSON Mode                                   |\n",
    "|-----------------------|---------------------------------------------------------|--------------------------------------------|\n",
    "| Outputs valid JSON    | Yes                                                     | Yes                                        |\n",
    "| Adheres to schema     | Yes (see supported schemas)                             | No                                         |\n",
    "| Compatible models     | gpt-4o-mini, gpt-4o-2024-08-06, and later               | gpt-3.5-turbo, gpt-4-*, and gpt-4o-* models |\n",
    "| Enabling              | `text: { format: { type: \"json_schema\", \"strict\": true, \"schema\": ... } }` | `text: { format: { type: \"json_object\" } }` |\n",
    "\n",
    "More info on [Structured Outputs](https://platform.openai.com/docs/guides/structured-outputs?example=structured-data) and [Structured Outputs Cookbook](https://cookbook.openai.com/examples/structured_outputs_intro)."
   ]
  },
  {
   "cell_type": "code",
   "execution_count": null,
   "metadata": {},
   "outputs": [],
   "source": [
    "schema = {\n",
    "    \"type\": \"json_schema\",\n",
    "    \"json_schema\": {\n",
    "        \"name\": \"my_schema\",\n",
    "        \"schema\": {\n",
    "            \"type\": \"object\",\n",
    "            \"properties\": {\n",
    "                \"reason\": {\n",
    "                    \"type\": \"string\",\n",
    "                    \"description\": \"Reason for the request\"\n",
    "                },\n",
    "                \"classified_reason\": {\n",
    "                    \"type\": \"string\",\n",
    "                    \"description\": \"Classified reason code can be one of 'lost_card', 'account_closure', 'address_change' or 'unknown'\"\n",
    "                },\n",
    "                \"name\": {\n",
    "                    \"type\": \"string\"\n",
    "                },\n",
    "                \"ssn\": {\n",
    "                    \"type\": \"string\"\n",
    "                },\n",
    "                \"dob\": {\n",
    "                    \"type\": \"string\"\n",
    "                }\n",
    "            },\n",
    "            \"required\": [\"reason\", \"classified_reason\", \"name\", \"ssn\", \"dob\"],\n",
    "        }\n",
    "    }\n",
    "}"
   ]
  },
  {
   "cell_type": "markdown",
   "metadata": {},
   "source": [
    "Use the schema to validate JSON data using structured output. "
   ]
  },
  {
   "cell_type": "code",
   "execution_count": null,
   "metadata": {},
   "outputs": [],
   "source": [
    "client = AzureOpenAI(\n",
    "    azure_endpoint = os.getenv(\"AZURE_OPENAI_ENDPOINT\"),\n",
    "    api_key = os.getenv(\"AZURE_OPENAI_API_KEY\"),\n",
    "    api_version = \"2024-10-21\"\n",
    ")\n",
    "\n",
    "def print_response(system_prompt, user_prompt):\n",
    "    response = client.chat.completions.create(\n",
    "        model = os.getenv(\"AZURE_OPENAI_COMPLETION_MODEL\"),        \n",
    "        messages = [{\"role\" : \"system\", \"content\" : system_prompt}, {\"role\" : \"user\", \"content\" : user_prompt}],\n",
    "        response_format=schema\n",
    "\n",
    "    )\n",
    "    print(response.choices[0].message.content)\n",
    "    print(response.usage)\n",
    "system_prompt =\"\"\"Extract data from the given text\"\"\"\n",
    "user_prompt =\"\"\" \n",
    "  Hello, my name is Mateo Gomez. I lost my Credit card on August 17th, and I would like to request its cancellation. The last purchase I made was of a Chicken parmigiana dish at Contoso Restaurant, located near the Hollywood Museum, for $40. Below is my personal information for validation:\n",
    "  Profession: Accountant\n",
    "  Social Security Number is 123-45-6789\n",
    "  Date of birth: 9-9-1989\n",
    "  Phone number: 949-555-0110\n",
    "  Personal address: 1234 Hollywood Boulevard Los Angeles CA\n",
    "  Linked email account: mateo@contosorestaurant.com\n",
    "  Swift code: CHASUS33XXX\n",
    "  \"\"\"\n",
    "print_response(system_prompt=system_prompt, user_prompt=user_prompt)"
   ]
  },
  {
   "cell_type": "markdown",
   "metadata": {},
   "source": [
    "In addition to supporting JSON Schema in the REST API, the OpenAI SDKs for Python and JavaScript also make it easy to define object schemas using Pydantic and Zod respectively.\n",
    "The new version of the SDK introduces a **parse** helper to provide your own Pydantic model instead of having to define the JSON schema. **We recommend using this method if possible**."
   ]
  },
  {
   "cell_type": "code",
   "execution_count": null,
   "metadata": {},
   "outputs": [],
   "source": [
    "from pydantic import BaseModel, Field\n",
    "\n",
    "class CustomerRequest(BaseModel):\n",
    "    reason: str = Field(description=\"Reason for the request\")\n",
    "    classified_reason: str = Field(\n",
    "        description=\"Classified reason code can be one of 'lost_card', 'account_closure', 'address_change' or 'unknown'\"\n",
    "    )\n",
    "    name: str\n",
    "    ssn: str\n",
    "    dob: str\n",
    "\n",
    "response = client.chat.completions.parse(\n",
    "        model = os.getenv(\"AZURE_OPENAI_COMPLETION_MODEL\"),        \n",
    "        messages = [{\"role\" : \"system\", \"content\" : system_prompt}, {\"role\" : \"user\", \"content\" : user_prompt}],\n",
    "        response_format=CustomerRequest\n",
    "    )\n",
    "print(response.choices[0].message.content)"
   ]
  },
  {
   "cell_type": "code",
   "execution_count": null,
   "metadata": {},
   "outputs": [],
   "source": [
    "print(response.usage)"
   ]
  }
 ],
 "metadata": {
  "kernelspec": {
   "display_name": "Python 3",
   "language": "python",
   "name": "python3"
  },
  "language_info": {
   "codemirror_mode": {
    "name": "ipython",
    "version": 3
   },
   "file_extension": ".py",
   "mimetype": "text/x-python",
   "name": "python",
   "nbconvert_exporter": "python",
   "pygments_lexer": "ipython3",
   "version": "3.11.9"
  },
  "orig_nbformat": 4
 },
 "nbformat": 4,
 "nbformat_minor": 2
}

{
 "cells": [
  {
   "cell_type": "code",
   "execution_count": null,
   "metadata": {},
   "outputs": [],
   "source": [
    "FILE_NAME='data/docx/sample-docx.docx'"
   ]
  },
  {
   "cell_type": "markdown",
   "metadata": {},
   "source": [
    "Approaches to read a DOCX file in Python:\n",
    "1. Convert to HTML using mammoth.js, then parse with BeautifulSoup.\n",
    "2. Convert to Markdown with MarkItDown, then use a Markdown parser.\n",
    "3. Use unstructured.io to extract and process the document directly.\n",
    "4. Use libraries like python-docx or docling to read the document structure."
   ]
  },
  {
   "cell_type": "markdown",
   "metadata": {},
   "source": [
    "## mammoth.js\n",
    "\n",
    "**Mammoth.js** is a JavaScript library designed to convert `.docx` documents into clean, semantic HTML. Instead of replicating visual styles, Mammoth focuses on meaningful structure—like turning \"Heading 1\" into `<h1>` tags. It supports features like:\n",
    "\n",
    "*   Headings, lists, tables, footnotes, images, links\n",
    "*   Custom style mappings\n",
    "*   Raw text extraction\n",
    "*   Browser and Node.js usage\n",
    "*   CLI and API support\n",
    "\n",
    "Mammoth avoids unnecessary formatting and works best with semantically styled documents. It’s available via npm, PyPI, Maven, NuGet, and WordPress.\n",
    "\n"
   ]
  },
  {
   "cell_type": "code",
   "execution_count": null,
   "metadata": {},
   "outputs": [],
   "source": [
    "%pip install mammoth"
   ]
  },
  {
   "cell_type": "code",
   "execution_count": null,
   "metadata": {},
   "outputs": [],
   "source": [
    "import mammoth\n",
    "from pathlib import Path\n",
    "from bs4 import BeautifulSoup\n",
    "from textwrap import shorten\n",
    "\n",
    "output_path = Path(FILE_NAME).with_suffix(\".html\")\n",
    "\n",
    "with open(FILE_NAME, \"rb\") as docx_file:\n",
    "    result = mammoth.convert_to_html(docx_file)\n",
    "\n",
    "html = result.value\n",
    "messages = result.messages\n",
    "\n",
    "output_path.write_text(html, encoding=\"utf-8\")\n",
    "print(f\"Saved HTML to {output_path}\")\n",
    "\n",
    "if messages:\n",
    "    print(\"Conversion messages:\")\n",
    "    for message in messages:\n",
    "        print(f\" - {message}\")\n",
    "\n",
    "soup = BeautifulSoup(html, \"html.parser\")\n",
    "\n",
    "headings = [tag.get_text(' ', strip=True) for tag in soup.find_all([\"h1\", \"h2\", \"h3\"])]\n",
    "if headings:\n",
    "    print(\"\\nHeadings detected:\")\n",
    "    for heading in headings:\n",
    "        print(f\" - {heading}\")\n",
    "\n",
    "paragraphs = [p.get_text(' ', strip=True) for p in soup.find_all(\"p\")]\n",
    "if paragraphs:\n",
    "    print(f\"\\nFirst paragraph snippet: {shorten(paragraphs[0], width=120, placeholder='…')}\")\n",
    "\n",
    "tables = soup.find_all(\"table\")\n",
    "if tables:\n",
    "    first_table = tables[0]\n",
    "    rows = [\n",
    "        [cell.get_text(' ', strip=True) for cell in row.find_all([\"th\", \"td\"])]\n",
    "        for row in first_table.find_all(\"tr\")\n",
    "    ]\n",
    "    print(\"\\nFirst table preview:\")\n",
    "    for row in rows[:3]:\n",
    "        print(\" | \".join(row))"
   ]
  },
  {
   "cell_type": "markdown",
   "metadata": {},
   "source": [
    "## MarkItDown \n",
    "\n",
    "**MarkItDown** is a lightweight Python utility developed by Microsoft for converting various file formats into Markdown, optimized for use with Large Language Models (LLMs) and text analysis pipelines. It preserves document structure (headings, tables, lists, etc.) and supports a wide range of input formats including:\n",
    "\n",
    "*   PDF, Word, Excel, PowerPoint\n",
    "*   Images (with OCR and EXIF metadata)\n",
    "*   Audio (transcription)\n",
    "*   HTML, CSV, JSON, XML\n",
    "*   ZIP files, YouTube URLs, EPubs\n",
    "\n",
    "#### **Key Features**\n",
    "\n",
    "*   Converts files to Markdown for efficient LLM processing\n",
    "*   Supports plugins and integration with Azure Document Intelligence\n",
    "*   Offers both CLI and Python API usage\n",
    "*   Compatible with Docker and virtual environments\n",
    "*   Optional dependencies for format-specific support\n",
    "*   Supports LLM-based image descriptions (e.g., GPT-4o)\n",
    "*   Open-source under the MIT License"
   ]
  },
  {
   "cell_type": "code",
   "execution_count": null,
   "metadata": {},
   "outputs": [],
   "source": [
    "%pip install markitdown[all]"
   ]
  },
  {
   "cell_type": "code",
   "execution_count": null,
   "metadata": {},
   "outputs": [],
   "source": [
    "from pathlib import Path\n",
    "from markitdown import MarkItDown\n",
    "\n",
    "converter = MarkItDown()  # Set enable_plugins=True if you need advanced formats\n",
    "result = converter.convert(FILE_NAME)\n",
    "\n",
    "output_path = Path(FILE_NAME).with_suffix(\".md\")\n",
    "output_path.write_text(result.text_content, encoding=\"utf-8\")\n",
    "print(f\"Saved Markdown to {output_path}\")\n",
    "\n",
    "lines = result.text_content.splitlines()\n",
    "preview_lines = lines[:15] if lines else []\n",
    "if preview_lines:\n",
    "    print(\"\\nMarkdown preview:\")\n",
    "    for line in preview_lines:\n",
    "        print(line)\n",
    "else:\n",
    "    print(\"\\nNo textual content detected.\")\n",
    "\n",
    "attachments = getattr(result, \"attachments\", None)\n",
    "if attachments:\n",
    "    print(\"\\nEmbedded attachments:\")\n",
    "    for name, data in attachments.items():\n",
    "        print(f\" - {name} ({len(data)} bytes)\")\n",
    "else:\n",
    "    print(\"\\nNo embedded attachments detected.\")"
   ]
  },
  {
   "cell_type": "markdown",
   "metadata": {},
   "source": [
    "## unstructured.io\n",
    "\n",
    "**Unstructured.io** is an open-source ETL library designed to convert complex documents—like PDFs, Word files, HTML, and images—into clean, structured data optimized for use with large language models (LLMs). It provides modular components for:\n",
    "\n",
    "*   **Document ingestion and pre-processing**\n",
    "*   **Auto-partitioning and format detection**\n",
    "*   **Table and image enrichment**\n",
    "*   **Chunking and embedding generation**\n",
    "\n",
    "Unstructured supports both local development and containerized deployment via Docker. It integrates easily with Python and offers connectors for platforms like Discord. The library is ideal for building scalable, production-grade data pipelines and is available via PyPI and GitHub."
   ]
  },
  {
   "cell_type": "code",
   "execution_count": null,
   "metadata": {},
   "outputs": [],
   "source": [
    "%pip  install \"unstructured[docx]\""
   ]
  },
  {
   "cell_type": "code",
   "execution_count": null,
   "metadata": {},
   "outputs": [],
   "source": [
    "from unstructured.partition.docx import partition_docx\n",
    "elements = partition_docx(FILE_NAME)\n",
    "print(elements)"
   ]
  },
  {
   "cell_type": "code",
   "execution_count": null,
   "metadata": {},
   "outputs": [],
   "source": [
    "print(\"Number of elements: \", len(elements))\n",
    "for i, element in enumerate(elements):             \n",
    "    if element.category == 'Table':\n",
    "        chunk_text = element.metadata.text_as_html        \n",
    "    else:\n",
    "        if element.category == 'Title':\n",
    "            chunk_text = \"# \"+ element.text\n",
    "        else:\n",
    "            chunk_text = element.text \n",
    "    print(f'element {i} ({element.category}): Chunk len ({len(chunk_text)}) {chunk_text[:100]}...') \n",
    "    "
   ]
  },
  {
   "cell_type": "markdown",
   "metadata": {},
   "source": [
    "### 🆚 Tool Comparison: MarkItDown vs Unstructured.io vs Mammoth.js\n",
    "\n",
    "| Feature / Aspect          | **MarkItDown**                                         | **Unstructured.io**                                        | **Mammoth.js**                                        |\n",
    "| ------------------------- | ------------------------------------------------------ | ---------------------------------------------------------- | ----------------------------------------------------- |\n",
    "| **Purpose**               | Converts files to Markdown for LLM-friendly input      | Transforms unstructured documents into structured data     | Converts `.docx` files to clean HTML markup           |\n",
    "| **Supported Formats**     | PDF, Word, Excel, PPT, images, audio, HTML, JSON, etc. | PDFs, Word, PowerPoint, HTML, emails, images, EPUBs, etc.  | `.docx` only (Word)                                   |\n",
    "| **Output Format**         | Markdown (`.md`)                                       | Structured JSON                                            | HTML (semantic, minimal markup)                       |\n",
    "| **Installation**          | `pip install 'markitdown[all]'`                        | `pip install \"unstructured[all-docs]\"`                     | `npm install mammoth` (also Python, Java, .NET, etc.) |\n",
    "| **Usage Style**           | CLI and Python API                                     | Python SDK, CLI, Docker, API, web UI                       | Node.js/JavaScript or CLI; optional Python wrapper    |\n",
    "| **Processing Focus**      | Retains document structure (headings, tables, lists)   | Partitioning, cleaning, chunking, metadata extraction      | Focused semantic mapping from Word styles to HTML     |\n",
    "| **Image & Audio Support** | OCR for images, transcription for audio                | OCR, layout parsing, table extraction                      | Images embedded in output HTML                        |\n",
    "| **Customization**         | Plugins, Azure integration                             | Style mapping, connectors, pipeline orchestration          | Custom style maps to convert named styles to HTML     |\n",
    "| **Enterprise Features**   | Lightweight utility with plugin support                | Full enterprise platform with UI, API, security, analytics | Community/open-source focused (GitHub-backed)         |\n",
    "| **Open Source**           | Yes (Microsoft-backed)                                 | Yes (community-driven, GitHub-hosted)                      | Yes (BSD-licensed, multi-platform)                    |\n",
    "| **Docker Support**        | Yes                                                    | Yes (multi-platform images)                                | Browser-demo support; core API usable in Node.js      |\n",
    "| **Ideal Use Case**        | Quick Markdown conversion for LLM ingestion            | Building full ETL pipelines for AI/ML                      | Cleanly converting Word `.docx` to semantic HTML      |\n"
   ]
  }
 ],
 "metadata": {
  "kernelspec": {
   "display_name": "Python 3",
   "language": "python",
   "name": "python3"
  },
  "language_info": {
   "codemirror_mode": {
    "name": "ipython",
    "version": 3
   },
   "file_extension": ".py",
   "mimetype": "text/x-python",
   "name": "python",
   "nbconvert_exporter": "python",
   "pygments_lexer": "ipython3",
   "version": "3.11.9"
  }
 },
 "nbformat": 4,
 "nbformat_minor": 2
}
